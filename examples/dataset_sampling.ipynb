{
 "cells": [
  {
   "cell_type": "code",
   "execution_count": 134,
   "outputs": [
    {
     "name": "stdout",
     "output_type": "stream",
     "text": [
      "The autoreload extension is already loaded. To reload it, use:\n",
      "  %reload_ext autoreload\n"
     ]
    }
   ],
   "source": [
    "%load_ext autoreload\n",
    "%autoreload 2"
   ],
   "metadata": {
    "collapsed": false,
    "ExecuteTime": {
     "end_time": "2023-06-14T13:14:01.410935Z",
     "start_time": "2023-06-14T13:14:01.366292Z"
    }
   }
  },
  {
   "cell_type": "code",
   "execution_count": 135,
   "metadata": {
    "collapsed": true,
    "ExecuteTime": {
     "end_time": "2023-06-14T13:14:01.448454Z",
     "start_time": "2023-06-14T13:14:01.411520Z"
    }
   },
   "outputs": [],
   "source": [
    "from torchvision.transforms import ToTensor\n",
    "from torchvision.datasets import MNIST\n",
    "\n",
    "dataset = MNIST(root='~/data', download=False, transform=ToTensor())"
   ]
  },
  {
   "cell_type": "code",
   "execution_count": 136,
   "outputs": [
    {
     "data": {
      "text/plain": "58853"
     },
     "execution_count": 136,
     "metadata": {},
     "output_type": "execute_result"
    }
   ],
   "source": [
    "from flexfl.data.sampler import FederatedSampler\n",
    "\n",
    "fed_sampler = FederatedSampler(dataset=dataset, num_clients=5, sample_size_non_iidness='medium', target_non_iidness='low')\n",
    "fed_sampler.total_samples"
   ],
   "metadata": {
    "collapsed": false,
    "ExecuteTime": {
     "end_time": "2023-06-14T13:14:01.517438Z",
     "start_time": "2023-06-14T13:14:01.447504Z"
    }
   }
  },
  {
   "cell_type": "code",
   "execution_count": 137,
   "outputs": [
    {
     "data": {
      "text/plain": "[4147, 25126, 11125, 1666, 16789]"
     },
     "execution_count": 137,
     "metadata": {},
     "output_type": "execute_result"
    }
   ],
   "source": [
    "[len(fed_sampler.clients[client_id]) for client_id in range(5)]"
   ],
   "metadata": {
    "collapsed": false,
    "ExecuteTime": {
     "end_time": "2023-06-14T13:14:01.557846Z",
     "start_time": "2023-06-14T13:14:01.518187Z"
    }
   }
  },
  {
   "cell_type": "code",
   "execution_count": 138,
   "outputs": [
    {
     "data": {
      "text/plain": "{0: [403, 427, 421, 438, 422, 404, 394, 423, 415, 400],\n 1: [2585, 2559, 2415, 2522, 2569, 2514, 2427, 2458, 2571, 2506],\n 2: [1075, 1160, 1117, 1109, 1100, 1122, 1100, 1100, 1130, 1112],\n 3: [158, 173, 164, 164, 162, 174, 166, 174, 165, 166],\n 4: [1702, 1904, 1781, 1767, 1589, 1207, 1774, 1730, 1570, 1765]}"
     },
     "execution_count": 138,
     "metadata": {},
     "output_type": "execute_result"
    }
   ],
   "source": [
    "from torch.utils.data import DataLoader\n",
    "\n",
    "# Count class distribution per site in a dataframe\n",
    "class_counting = {client_id: [0] * 10 for client_id in range(5)}\n",
    "for client_id in range(5):\n",
    "    loader = DataLoader(fed_sampler.clients[client_id], batch_size=1, shuffle=False)\n",
    "    for _, y in loader:\n",
    "        for y_i in y:\n",
    "            class_counting[client_id][y_i] += 1\n",
    "class_counting"
   ],
   "metadata": {
    "collapsed": false,
    "ExecuteTime": {
     "end_time": "2023-06-14T13:14:03.687201Z",
     "start_time": "2023-06-14T13:14:01.540349Z"
    }
   }
  },
  {
   "cell_type": "code",
   "execution_count": 139,
   "outputs": [
    {
     "data": {
      "text/plain": "<Axes: >"
     },
     "execution_count": 139,
     "metadata": {},
     "output_type": "execute_result"
    },
    {
     "data": {
      "text/plain": "<Figure size 640x480 with 1 Axes>",
      "image/png": "[encoded data removed]"
     },
     "metadata": {},
     "output_type": "display_data"
    }
   ],
   "source": [
    "import pandas as pd\n",
    "\n",
    "df = pd.DataFrame(class_counting).T\n",
    "df.plot.bar()"
   ],
   "metadata": {
    "collapsed": false,
    "ExecuteTime": {
     "end_time": "2023-06-14T13:14:03.836006Z",
     "start_time": "2023-06-14T13:14:03.688087Z"
    }
   }
  },
  {
   "cell_type": "code",
   "execution_count": 139,
   "outputs": [],
   "source": [],
   "metadata": {
    "collapsed": false,
    "ExecuteTime": {
     "end_time": "2023-06-14T13:14:03.839788Z",
     "start_time": "2023-06-14T13:14:03.837177Z"
    }
   }
  }
 ],
 "metadata": {
  "kernelspec": {
   "display_name": "Python 3",
   "language": "python",
   "name": "python3"
  },
  "language_info": {
   "codemirror_mode": {
    "name": "ipython",
    "version": 2
   },
   "file_extension": ".py",
   "mimetype": "text/x-python",
   "name": "python",
   "nbconvert_exporter": "python",
   "pygments_lexer": "ipython2",
   "version": "2.7.6"
  }
 },
 "nbformat": 4,
 "nbformat_minor": 0
}
