{
 "cells": [
  {
   "cell_type": "code",
   "execution_count": 170,
   "outputs": [
    {
     "name": "stdout",
     "output_type": "stream",
     "text": [
      "The autoreload extension is already loaded. To reload it, use:\n",
      "  %reload_ext autoreload\n"
     ]
    }
   ],
   "source": [
    "%load_ext autoreload\n",
    "%autoreload 2"
   ],
   "metadata": {
    "collapsed": false,
    "ExecuteTime": {
     "end_time": "2023-06-14T13:21:18.631886Z",
     "start_time": "2023-06-14T13:21:18.586551Z"
    }
   }
  },
  {
   "cell_type": "code",
   "execution_count": 171,
   "metadata": {
    "collapsed": true,
    "ExecuteTime": {
     "end_time": "2023-06-14T13:21:19.597359Z",
     "start_time": "2023-06-14T13:21:18.632384Z"
    }
   },
   "outputs": [
    {
     "name": "stdout",
     "output_type": "stream",
     "text": [
      "Files already downloaded and verified\n"
     ]
    }
   ],
   "source": [
    "from torchvision.transforms import ToTensor\n",
    "from torchvision.datasets import CIFAR10\n",
    "\n",
    "dataset = CIFAR10(root='~/data', download=True, transform=ToTensor())"
   ]
  },
  {
   "cell_type": "code",
   "execution_count": 172,
   "outputs": [
    {
     "data": {
      "text/plain": "43045"
     },
     "execution_count": 172,
     "metadata": {},
     "output_type": "execute_result"
    }
   ],
   "source": [
    "from flexfl.data.sampler import FederatedSampler\n",
    "\n",
    "fed_sampler = FederatedSampler(dataset=dataset, num_clients=5, sample_size_non_iidness='medium', target_non_iidness='medium')\n",
    "fed_sampler.total_samples"
   ],
   "metadata": {
    "collapsed": false,
    "ExecuteTime": {
     "end_time": "2023-06-14T13:21:19.685690Z",
     "start_time": "2023-06-14T13:21:19.597124Z"
    }
   }
  },
  {
   "cell_type": "code",
   "execution_count": 173,
   "outputs": [
    {
     "data": {
      "text/plain": "[7570, 12905, 15933, 4151, 2486]"
     },
     "execution_count": 173,
     "metadata": {},
     "output_type": "execute_result"
    }
   ],
   "source": [
    "[len(fed_sampler.clients[client_id]) for client_id in range(5)]"
   ],
   "metadata": {
    "collapsed": false,
    "ExecuteTime": {
     "end_time": "2023-06-14T13:21:19.719365Z",
     "start_time": "2023-06-14T13:21:19.686374Z"
    }
   }
  },
  {
   "cell_type": "code",
   "execution_count": 174,
   "outputs": [
    {
     "data": {
      "text/plain": "{0: [507, 1021, 1395, 336, 1154, 443, 970, 298, 947, 499],\n 1: [701, 3356, 960, 737, 1440, 614, 1501, 567, 1322, 1707],\n 2: [485, 623, 1800, 1019, 2406, 976, 1889, 1547, 2731, 2457],\n 3: [627, 0, 845, 819, 0, 660, 496, 582, 0, 122],\n 4: [224, 0, 0, 629, 0, 795, 144, 479, 0, 215]}"
     },
     "execution_count": 174,
     "metadata": {},
     "output_type": "execute_result"
    }
   ],
   "source": [
    "from torch.utils.data import DataLoader\n",
    "\n",
    "# Count class distribution per site in a dataframe\n",
    "class_counting = {client_id: [0] * 10 for client_id in range(5)}\n",
    "for client_id in range(5):\n",
    "    loader = DataLoader(fed_sampler.clients[client_id], batch_size=1, shuffle=False)\n",
    "    for _, y in loader:\n",
    "        for y_i in y:\n",
    "            class_counting[client_id][y_i] += 1\n",
    "class_counting"
   ],
   "metadata": {
    "collapsed": false,
    "ExecuteTime": {
     "end_time": "2023-06-14T13:21:21.972880Z",
     "start_time": "2023-06-14T13:21:19.709855Z"
    }
   }
  },
  {
   "cell_type": "code",
   "execution_count": 175,
   "outputs": [
    {
     "data": {
      "text/plain": "<Axes: >"
     },
     "execution_count": 175,
     "metadata": {},
     "output_type": "execute_result"
    },
    {
     "data": {
      "text/plain": "<Figure size 640x480 with 1 Axes>",
      "image/png": "[encoded data removed]"
     },
     "metadata": {},
     "output_type": "display_data"
    }
   ],
   "source": [
    "import pandas as pd\n",
    "\n",
    "df = pd.DataFrame(class_counting).T\n",
    "df.plot.bar()"
   ],
   "metadata": {
    "collapsed": false,
    "ExecuteTime": {
     "end_time": "2023-06-14T13:21:22.214545Z",
     "start_time": "2023-06-14T13:21:21.973584Z"
    }
   }
  },
  {
   "cell_type": "markdown",
   "source": [],
   "metadata": {
    "collapsed": false
   }
  },
  {
   "cell_type": "code",
   "execution_count": 175,
   "outputs": [],
   "source": [],
   "metadata": {
    "collapsed": false,
    "ExecuteTime": {
     "end_time": "2023-06-14T13:21:22.218648Z",
     "start_time": "2023-06-14T13:21:22.215824Z"
    }
   }
  }
 ],
 "metadata": {
  "kernelspec": {
   "display_name": "Python 3",
   "language": "python",
   "name": "python3"
  },
  "language_info": {
   "codemirror_mode": {
    "name": "ipython",
    "version": 2
   },
   "file_extension": ".py",
   "mimetype": "text/x-python",
   "name": "python",
   "nbconvert_exporter": "python",
   "pygments_lexer": "ipython2",
   "version": "2.7.6"
  }
 },
 "nbformat": 4,
 "nbformat_minor": 0
}
